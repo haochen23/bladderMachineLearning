{
 "cells": [
  {
   "cell_type": "code",
   "execution_count": 1,
   "metadata": {},
   "outputs": [],
   "source": [
    "import numpy as np\n",
    "import pandas as pd\n",
    "from sklearn import model_selection, preprocessing, svm\n",
    "from sklearn.linear_model import LogisticRegression\n",
    "from sklearn.discriminant_analysis import LinearDiscriminantAnalysis, QuadraticDiscriminantAnalysis\n",
    "from sklearn.neural_network import MLPClassifier\n",
    "import matplotlib.pyplot as plt\n",
    "from matplotlib import style\n",
    "style.use('ggplot')"
   ]
  },
  {
   "cell_type": "markdown",
   "metadata": {},
   "source": [
    "## data cleaning"
   ]
  },
  {
   "cell_type": "code",
   "execution_count": 2,
   "metadata": {},
   "outputs": [],
   "source": [
    "# data is already pre-processed, just handling the target value\n",
    "df = pd.read_excel('processed_data1.2.xlsx', header = None)\n",
    "df.fillna(-999999, inplace = True)\n",
    "y = df.iloc[:, 1367]\n",
    "x = np.array(df.drop(1367, axis = 1).astype(float))\n",
    "y = y.str.replace(r'(^.*High.*$)', '3')\n",
    "y = y.str.replace(r'(^.*Low.*$)', '2')\n",
    "y = y.str.replace(r'(^.*Norm.*$)', '1')\n",
    "y = np.array(y.astype(float))"
   ]
  },
  {
   "cell_type": "markdown",
   "metadata": {},
   "source": [
    "## K-Means unsupervised\n"
   ]
  },
  {
   "cell_type": "code",
   "execution_count": 3,
   "metadata": {},
   "outputs": [
    {
     "name": "stdout",
     "output_type": "stream",
     "text": [
      "0.07407407407407407\n",
      "0.2191358024691358\n",
      "0.32407407407407407\n",
      "0.037037037037037035\n",
      "0.32407407407407407\n",
      "0.037037037037037035\n",
      "0.05864197530864197\n",
      "0.037037037037037035\n",
      "0.05864197530864197\n",
      "0.32407407407407407\n"
     ]
    }
   ],
   "source": [
    "from sklearn.cluster import KMeans\n",
    "\n",
    "for _ in range(10):\n",
    "    clf_km = KMeans(n_clusters = 3)\n",
    "    clf_km.fit(x)\n",
    "\n",
    "\n",
    "    correct = 0\n",
    "    for i in range(len(x)):\n",
    "        predict_me = np.array(x[i].astype(float))\n",
    "        predict_me = predict_me.reshape(-1, len(predict_me))\n",
    "        prediction = clf_km.predict(predict_me)\n",
    "    \n",
    "        if prediction[0] == y[i]:\n",
    "            correct += 1\n",
    "    print(correct/len(x))"
   ]
  },
  {
   "cell_type": "markdown",
   "metadata": {},
   "source": [
    "## Fuzzy-Kmeans"
   ]
  },
  {
   "cell_type": "code",
   "execution_count": 4,
   "metadata": {},
   "outputs": [
    {
     "name": "stdout",
     "output_type": "stream",
     "text": [
      "0.15123456790123457\n"
     ]
    }
   ],
   "source": [
    "from sklearn_extensions.fuzzy_kmeans import FuzzyKMeans, KMedians\n",
    "\n",
    "\n",
    "clf_fkm = FuzzyKMeans(k = 3, m = 2)\n",
    "clf_fkm.fit(x)\n",
    "correct = 0\n",
    "for i in range(len(x)):\n",
    "    if clf_fkm.labels_[i] == y[i]:\n",
    "        correct += 1\n",
    "print(correct/len(x))"
   ]
  },
  {
   "cell_type": "markdown",
   "metadata": {},
   "source": [
    "## Logistic Regression 10-fold CV"
   ]
  },
  {
   "cell_type": "code",
   "execution_count": 5,
   "metadata": {},
   "outputs": [
    {
     "name": "stdout",
     "output_type": "stream",
     "text": [
      "[0.90909091 0.81818182 0.81818182 0.75757576 0.6969697  0.75757576\n",
      " 0.84375    0.75       0.93548387 0.64516129]\n",
      "Accuracy: 0.79 (+/- 0.17)\n"
     ]
    }
   ],
   "source": [
    "from sklearn.model_selection import cross_val_score\n",
    "clf_lr = LogisticRegression()\n",
    "scores = cross_val_score(clf_lr, x, y, cv = 10)\n",
    "print(scores)   \n",
    "print(\"Accuracy: %0.2f (+/- %0.2f)\" % (scores.mean(), scores.std() * 2))\n"
   ]
  },
  {
   "cell_type": "markdown",
   "metadata": {},
   "source": [
    "## Linear SVM"
   ]
  },
  {
   "cell_type": "code",
   "execution_count": 6,
   "metadata": {},
   "outputs": [
    {
     "name": "stdout",
     "output_type": "stream",
     "text": [
      "[0.90909091 0.90909091 0.90909091 0.81818182 0.72727273 0.78787879\n",
      " 0.9375     0.90625    0.96774194 0.64516129]\n",
      "Accuracy: 0.85 (+/- 0.20)\n"
     ]
    }
   ],
   "source": [
    "clf_svm = svm.SVC(kernel = 'linear')\n",
    "scores = cross_val_score(clf_svm, x, y, cv = 10)\n",
    "print(scores)   \n",
    "print(\"Accuracy: %0.2f (+/- %0.2f)\" % (scores.mean(), scores.std() * 2))"
   ]
  },
  {
   "cell_type": "markdown",
   "metadata": {},
   "source": [
    "## PCA"
   ]
  },
  {
   "cell_type": "code",
   "execution_count": 7,
   "metadata": {},
   "outputs": [
    {
     "data": {
      "image/png": "[encoded data removed]",
      "text/plain": [
       "<Figure size 432x288 with 1 Axes>"
      ]
     },
     "metadata": {},
     "output_type": "display_data"
    },
    {
     "name": "stdout",
     "output_type": "stream",
     "text": [
      "The first 41 PCs explained over 85% variance\n"
     ]
    }
   ],
   "source": [
    "from sklearn.decomposition import PCA\n",
    "import seaborn as sb\n",
    "%matplotlib inline\n",
    "sb.set(font_scale=1.2,style=\"whitegrid\") #set styling preferences\n",
    "\n",
    "covar_matrix = PCA()\n",
    "\n",
    "covar_matrix.fit(x)\n",
    "variance = covar_matrix.explained_variance_ratio_ #calculate variance ratios\n",
    "\n",
    "var=np.cumsum(np.round(covar_matrix.explained_variance_ratio_, decimals=3)*100)\n",
    "plt.ylabel('% Variance Explained')\n",
    "plt.xlabel('# of Features')\n",
    "plt.title('PCA Analysis')\n",
    "plt.ylim(30,100.5)\n",
    "plt.style.context('seaborn-whitegrid')\n",
    "plt.plot(var)\n",
    "plt.show()\n",
    "num = np.argmax(var>85)\n",
    "print('The first', num, 'PCs explained over 85% variance')"
   ]
  },
  {
   "cell_type": "code",
   "execution_count": 8,
   "metadata": {},
   "outputs": [
    {
     "name": "stdout",
     "output_type": "stream",
     "text": [
      "(41, 1367)\n"
     ]
    }
   ],
   "source": [
    "print(covar_matrix.components_[:41,:].shape)"
   ]
  },
  {
   "cell_type": "code",
   "execution_count": 9,
   "metadata": {},
   "outputs": [
    {
     "name": "stdout",
     "output_type": "stream",
     "text": [
      "(324, 1367) (324, 41)\n"
     ]
    }
   ],
   "source": [
    "pca = PCA(n_components = 41)\n",
    "pca.fit(x)\n",
    "new_x = pca.transform(x)\n",
    "print(x.shape, new_x.shape)\n"
   ]
  },
  {
   "cell_type": "code",
   "execution_count": 10,
   "metadata": {},
   "outputs": [
    {
     "data": {
      "text/plain": [
       "[]"
      ]
     },
     "execution_count": 10,
     "metadata": {},
     "output_type": "execute_result"
    },
    {
     "data": {
      "image/png": "[encoded data removed]",
      "text/plain": [
       "<Figure size 288x216 with 1 Axes>"
      ]
     },
     "metadata": {},
     "output_type": "display_data"
    }
   ],
   "source": [
    "from mpl_toolkits.mplot3d import Axes3D\n",
    "\n",
    "fig = plt.figure(1, figsize=(4, 3))\n",
    "plt.clf()\n",
    "ax = Axes3D(fig, rect=[0, 0, .95, 1], elev=48, azim=134)\n",
    "for name, label in [('Normal', 1), ('Low-grade', 2), ('High-grade',3)]:\n",
    "    ax.text3D(new_x[y == label, 0].mean(),\n",
    "              new_x[y == label, 1].mean() + 1.5,\n",
    "              new_x[y == label, 2].mean(), name,\n",
    "              horizontalalignment='center',\n",
    "              bbox=dict(alpha=.5, edgecolor='w', facecolor='w'))\n",
    "# Reorder the labels to have colors matching the cluster results\n",
    "# y = np.choose(y, [1, 2, 3]).astype(np.float)\n",
    "ax.scatter(new_x[:, 0], new_x[:, 1], new_x[:, 2], c=y, cmap=plt.cm.nipy_spectral,\n",
    "           edgecolor='k')\n",
    "\n",
    "ax.w_xaxis.set_ticklabels([])\n",
    "ax.w_yaxis.set_ticklabels([])\n",
    "ax.w_zaxis.set_ticklabels([])"
   ]
  },
  {
   "cell_type": "markdown",
   "metadata": {},
   "source": [
    "## PCA KMeans"
   ]
  },
  {
   "cell_type": "code",
   "execution_count": 11,
   "metadata": {},
   "outputs": [
    {
     "name": "stdout",
     "output_type": "stream",
     "text": [
      "0.44753086419753085\n",
      "0.07407407407407407\n",
      "0.07407407407407407\n",
      "0.44753086419753085\n",
      "0.05864197530864197\n",
      "0.2191358024691358\n",
      "0.44753086419753085\n",
      "0.07407407407407407\n",
      "0.07407407407407407\n",
      "0.44753086419753085\n"
     ]
    }
   ],
   "source": [
    "for _ in range(10):\n",
    "    clf_km = KMeans(n_clusters = 3)\n",
    "    clf_km.fit(new_x)\n",
    "\n",
    "\n",
    "    correct = 0\n",
    "    for i in range(len(x)):\n",
    "        predict_me = np.array(new_x[i].astype(float))\n",
    "        predict_me = predict_me.reshape(-1, len(predict_me))\n",
    "        prediction = clf_km.predict(predict_me)\n",
    "    \n",
    "        if prediction[0] == y[i]:\n",
    "            correct += 1\n",
    "    print(correct/len(new_x))"
   ]
  },
  {
   "cell_type": "code",
   "execution_count": 12,
   "metadata": {},
   "outputs": [
    {
     "name": "stdout",
     "output_type": "stream",
     "text": [
      "0.11419753086419752\n"
     ]
    }
   ],
   "source": [
    "clf_fkm = FuzzyKMeans(k = 3, m = 2)\n",
    "clf_fkm.fit(new_x)\n",
    "correct = 0\n",
    "for i in range(len(new_x)):\n",
    "    if clf_fkm.labels_[i] == y[i]:\n",
    "        correct += 1\n",
    "print(correct/len(new_x))"
   ]
  },
  {
   "cell_type": "code",
   "execution_count": 13,
   "metadata": {},
   "outputs": [
    {
     "name": "stdout",
     "output_type": "stream",
     "text": [
      "[0.90909091 0.81818182 0.81818182 0.75757576 0.6969697  0.78787879\n",
      " 0.8125     0.78125    0.93548387 0.64516129]\n",
      "Accuracy: 0.80 (+/- 0.16)\n"
     ]
    }
   ],
   "source": [
    "clf_lr = LogisticRegression()\n",
    "scores = cross_val_score(clf_lr, new_x, y, cv = 10)\n",
    "print(scores)   \n",
    "print(\"Accuracy: %0.2f (+/- %0.2f)\" % (scores.mean(), scores.std() * 2))"
   ]
  },
  {
   "cell_type": "code",
   "execution_count": 14,
   "metadata": {},
   "outputs": [
    {
     "name": "stdout",
     "output_type": "stream",
     "text": [
      "[0.90909091 0.84848485 0.90909091 0.75757576 0.6969697  0.78787879\n",
      " 0.90625    0.8125     0.93548387 0.67741935]\n",
      "Accuracy: 0.82 (+/- 0.18)\n"
     ]
    }
   ],
   "source": [
    "clf_svm = svm.SVC(kernel = 'linear')\n",
    "scores = cross_val_score(clf_svm, new_x, y, cv = 10)\n",
    "print(scores)   \n",
    "print(\"Accuracy: %0.2f (+/- %0.2f)\" % (scores.mean(), scores.std() * 2))"
   ]
  },
  {
   "cell_type": "code",
   "execution_count": null,
   "metadata": {},
   "outputs": [],
   "source": []
  }
 ],
 "metadata": {
  "kernelspec": {
   "display_name": "Python 3",
   "language": "python",
   "name": "python3"
  },
  "language_info": {
   "codemirror_mode": {
    "name": "ipython",
    "version": 3
   },
   "file_extension": ".py",
   "mimetype": "text/x-python",
   "name": "python",
   "nbconvert_exporter": "python",
   "pygments_lexer": "ipython3",
   "version": "3.6.5"
  }
 },
 "nbformat": 4,
 "nbformat_minor": 2
}
